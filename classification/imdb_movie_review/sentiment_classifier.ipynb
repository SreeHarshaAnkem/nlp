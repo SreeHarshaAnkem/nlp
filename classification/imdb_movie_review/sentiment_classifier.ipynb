{
  "nbformat": 4,
  "nbformat_minor": 0,
  "metadata": {
    "colab": {
      "name": "sentiment_classifier.ipynb",
      "provenance": [],
      "collapsed_sections": []
    },
    "kernelspec": {
      "name": "python3",
      "display_name": "Python 3"
    },
    "accelerator": "GPU"
  },
  "cells": [
    {
      "cell_type": "code",
      "metadata": {
        "id": "IHLkLtueO9nN",
        "colab": {
          "resources": {
            "http://localhost:8080/nbextensions/google.colab/files.js": {
              "data": "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",
              "ok": true,
              "headers": [
                [
                  "content-type",
                  "application/javascript"
                ]
              ],
              "status": 200,
              "status_text": ""
            }
          },
          "base_uri": "https://localhost:8080/",
          "height": 90
        },
        "outputId": "9b8a108b-6e0c-427b-c3d6-3ac246fd8902"
      },
      "source": [
        "!pip install -q kaggle\n",
        "from google.colab import files\n",
        "files.upload()"
      ],
      "execution_count": null,
      "outputs": [
        {
          "output_type": "display_data",
          "data": {
            "text/html": [
              "\n",
              "     <input type=\"file\" id=\"files-98d3317d-03c2-4f66-823c-5d2b1b553aa9\" name=\"files[]\" multiple disabled\n",
              "        style=\"border:none\" />\n",
              "     <output id=\"result-98d3317d-03c2-4f66-823c-5d2b1b553aa9\">\n",
              "      Upload widget is only available when the cell has been executed in the\n",
              "      current browser session. Please rerun this cell to enable.\n",
              "      </output>\n",
              "      <script src=\"/nbextensions/google.colab/files.js\"></script> "
            ],
            "text/plain": [
              "<IPython.core.display.HTML object>"
            ]
          },
          "metadata": {
            "tags": []
          }
        },
        {
          "output_type": "stream",
          "text": [
            "Saving kaggle.json to kaggle (2).json\n"
          ],
          "name": "stdout"
        },
        {
          "output_type": "execute_result",
          "data": {
            "text/plain": [
              "{'kaggle.json': b'{\"username\":\"sreehar\",\"key\":\"21cf35b91f53c122ef3b6578c794773e\"}'}"
            ]
          },
          "metadata": {
            "tags": []
          },
          "execution_count": 1
        }
      ]
    },
    {
      "cell_type": "code",
      "metadata": {
        "id": "Ixgn3oDrPCHc",
        "colab": {
          "base_uri": "https://localhost:8080/"
        },
        "outputId": "98e5b665-0188-4fe4-9014-36c96721575b"
      },
      "source": [
        "!mkdir -p ~/.kaggle\n",
        "!cp kaggle.json ~/.kaggle/\n",
        "!ls ~/.kaggle\n",
        "!chmod 600 /root/.kaggle/kaggle.json\n",
        "!kaggle datasets download -d lakshmi25npathi/imdb-dataset-of-50k-movie-reviews\n",
        "!unzip imdb-dataset-of-50k-movie-reviews.zip"
      ],
      "execution_count": null,
      "outputs": [
        {
          "output_type": "stream",
          "text": [
            "kaggle.json\n",
            "imdb-dataset-of-50k-movie-reviews.zip: Skipping, found more recently modified local copy (use --force to force download)\n",
            "Archive:  imdb-dataset-of-50k-movie-reviews.zip\n",
            "replace IMDB Dataset.csv? [y]es, [n]o, [A]ll, [N]one, [r]ename: n\n"
          ],
          "name": "stdout"
        }
      ]
    },
    {
      "cell_type": "code",
      "metadata": {
        "id": "Ow4KXmr_O38c"
      },
      "source": [
        "import numpy as np\n",
        "import pandas as pd\n",
        "from tqdm import tqdm\n",
        "from functools import reduce\n",
        "from operator import iconcat\n",
        "import re\n",
        "import spacy\n",
        "import torch\n",
        "from torch import nn\n",
        "from torch.utils.data import Dataset, DataLoader\n",
        "from torch.utils.data import random_split\n",
        "from torch.nn.utils.rnn import pad_sequence, pack_padded_sequence\n",
        "tqdm.pandas()"
      ],
      "execution_count": null,
      "outputs": []
    },
    {
      "cell_type": "code",
      "metadata": {
        "id": "CPGYlgRoTfvX"
      },
      "source": [
        "device = torch.device(\"cuda\" if torch.cuda.is_available() else \"cpu\")"
      ],
      "execution_count": null,
      "outputs": []
    },
    {
      "cell_type": "code",
      "metadata": {
        "id": "NbkkRgeCQFJa"
      },
      "source": [
        "class Vocab:\n",
        "    def __init__(self, min_frequency, vocab_size):\n",
        "        self.min_frequency = min_frequency\n",
        "        self.vocab_size = vocab_size\n",
        "\n",
        "    def build_vocab(self, df, field):\n",
        "        df_freq = self.get_token_frequency(df, field)\n",
        "        df_freq = df_freq.loc[df_freq[\"frequency\"] >= self.min_frequency]\n",
        "        df_freq = df_freq.head(self.vocab_size-1)\n",
        "        self.counts = dict(zip(df_freq[\"token\"], df_freq[\"frequency\"]))\n",
        "        df_freq[\"index\"] = np.arange(0, df_freq.shape[0], 1)+1\n",
        "        self.stoi = dict(zip(df_freq[\"token\"], df_freq[\"index\"]))\n",
        "        self.itos = dict(zip(df_freq[\"index\"], df_freq[\"token\"]))\n",
        "\n",
        "    def get_token_frequency(self, df, field):\n",
        "        corpus = df[field].values.tolist()\n",
        "        flattened_tokens = reduce(iconcat, corpus, [])\n",
        "        vocab, counts = np.unique(flattened_tokens, return_counts=True)\n",
        "        df_token_freq = pd.DataFrame(zip(vocab, counts),\n",
        "                                     columns=[\"token\", \"frequency\"])\n",
        "        df_token_freq.sort_values(by=\"frequency\",\n",
        "                                  ascending=False, inplace=True)\n",
        "        return df_token_freq"
      ],
      "execution_count": null,
      "outputs": []
    },
    {
      "cell_type": "code",
      "metadata": {
        "id": "BMxusLm_Pf-x"
      },
      "source": [
        "class SentimentDataset(Dataset):\n",
        "    def __init__(self, dataset_path, min_frequency,\n",
        "                 vocab_size):\n",
        "        self.min_frequency = min_frequency\n",
        "        self.df = pd.read_csv(dataset_path)\n",
        "        self.nlp = spacy.load(\"en_core_web_sm\",\n",
        "                              disable=['ner', 'parser', 'tagger'])\n",
        "        \n",
        "        # Preprocess target and text\n",
        "        self.df[\"sentiment\"] = self.df[\"sentiment\"].\\\n",
        "            apply(lambda x: 1 if x == \"positive\" else 0)\n",
        "        self.df[\"review_cleaned\"] = self.df[\"review\"].\\\n",
        "            progress_apply(self.tokenizer)\n",
        "        self.vocab_builder = Vocab(min_frequency=self.min_frequency,\n",
        "                                   vocab_size=vocab_size)\n",
        "        self.vocab_builder.build_vocab(self.df, \"review_cleaned\")\n",
        "        \n",
        "        # Retain only those tokens in vocab\n",
        "        self.df[\"review_cleaned\"] = \\\n",
        "            self.df[\"review_cleaned\"].progress_apply(lambda doc:\n",
        "                                                     [token for token in doc\n",
        "                                                      if token in self.vocab_builder.stoi.keys()])\n",
        "        self.df[\"review_token_idx\"] = self.df[\"review_cleaned\"].progress_apply(lambda doc: \n",
        "                                                                               [self.vocab_builder.stoi[token] for token in doc] )\n",
        "        self.df[\"len\"] = self.df[\"review_token_idx\"].apply(len)\n",
        "        \n",
        "    def tokenizer(self, doc):\n",
        "        doc = doc.lower()\n",
        "        doc = doc.replace(\"<br />\", \" \")\n",
        "        doc = self.nlp(doc)\n",
        "        lemmas = [re.sub(r'[^a-z0-9]+', ' ',\n",
        "                         re.sub(r'http\\S+', ' ', token.lemma_))\n",
        "                  for token in doc]\n",
        "        lemmas = [lemma.strip() for lemma in lemmas if lemma != \" \"]\n",
        "        return lemmas\n",
        "\n",
        "    def __len__(self):\n",
        "        return self.df.shape[0]\n",
        "\n",
        "    def __getitem__(self, idx):\n",
        "\n",
        "        reviews = np.array(self.df.iloc[idx][\"review_token_idx\"])\n",
        "        lengths = np.array(self.df.iloc[idx][\"len\"])\n",
        "        sentiments = np.array(self.df.iloc[idx][\"sentiment\"])\n",
        "\n",
        "        return {\"features\" : reviews,\n",
        "                \"len\" : lengths, \n",
        "                \"target\" : sentiments}"
      ],
      "execution_count": null,
      "outputs": []
    },
    {
      "cell_type": "code",
      "metadata": {
        "id": "FEfbaFGFRI74"
      },
      "source": [
        ""
      ],
      "execution_count": null,
      "outputs": []
    },
    {
      "cell_type": "code",
      "metadata": {
        "id": "L8z0AobSbCrz"
      },
      "source": [
        ""
      ],
      "execution_count": null,
      "outputs": []
    },
    {
      "cell_type": "code",
      "metadata": {
        "id": "ZnCvMiy_RQnX"
      },
      "source": [
        ""
      ],
      "execution_count": null,
      "outputs": []
    },
    {
      "cell_type": "code",
      "metadata": {
        "id": "BlQ7V8eZT2SQ"
      },
      "source": [
        "class SentimentClassifier(nn.Module):\n",
        "    def __init__(self, embedding_dim, vocab_size, hidden_size):\n",
        "        super(SentimentClassifier, self).__init__()\n",
        "        self.emb = nn.Embedding(\n",
        "                                num_embeddings=vocab_size,\n",
        "                                embedding_dim=embedding_dim,\n",
        "                                padding_idx=0)\n",
        "        self.rnn = nn.LSTM(input_size = embedding_dim, \n",
        "                           hidden_size=hidden_size,\n",
        "                           num_layers=1,\n",
        "                           batch_first=True,\n",
        "                           bidirectional=True)\n",
        "        self.linear = nn.Linear(in_features=2*hidden_size,\n",
        "                                out_features=128)\n",
        "        self.linear2 = nn.Linear(in_features=128,\n",
        "                                out_features=1)\n",
        "\n",
        "    def forward(self, x_in):\n",
        "        x, lengths = x_in\n",
        "        embeddings = self.emb(x)\n",
        "        packed_seq = pack_padded_sequence(embeddings,\n",
        "                                          lengths, \n",
        "                                          batch_first=True, \n",
        "                                          enforce_sorted=False)\n",
        "        outputs, (h_t, c_t) = self.rnn(packed_seq)\n",
        "        hidden_states = torch.cat((h_t[-2, :, :], h_t[-1,:, :]), dim=1)\n",
        "        hidden_states = nn.Dropout(p=0.4)(hidden_states)\n",
        "        linear_out = self.linear(hidden_states)\n",
        "        \n",
        "        linear_out = self.linear2(linear_out)\n",
        "        # Sigmoid\n",
        "        score = torch.sigmoid(linear_out)  # [bs, 1+neg_ex]\n",
        "        return score"
      ],
      "execution_count": null,
      "outputs": []
    },
    {
      "cell_type": "code",
      "metadata": {
        "id": "PJ0RHUbA3dq5"
      },
      "source": [
        "def loss_batch(model, loss_func, xb, yb, opt=None):\n",
        "    y_pred = model(xb)\n",
        "    loss = loss_func(y_pred, yb)\n",
        "    if opt is not None:\n",
        "        loss.backward()\n",
        "        opt.step()\n",
        "        opt.zero_grad()\n",
        "    return loss.item(), len(y_pred)\n",
        "\n",
        "from sklearn.metrics import roc_auc_score\n",
        "def get_metrics(model, xb, yb):\n",
        "    y_pred = model(xb)\n",
        "    score = roc_auc_score(yb.detach().cpu().numpy(), y_pred.detach().cpu().numpy())\n",
        "    return score, len(y_pred)\n",
        "\n",
        "def fit(epochs, model, loss_func, opt, train_dl, valid_dl):\n",
        "    train_metrics_all, test_metrics_all = [], []\n",
        "    train_loss_all, test_loss_all = [], []\n",
        "    for epoch in range(epochs):\n",
        "        \n",
        "        model.train()\n",
        "        losses, records = zip(*[loss_batch(model, loss_func, xb, yb, opt) for xb, yb in train_dl])\n",
        "        train_loss = np.sum(np.multiply(losses, records)) / np.sum(records)\n",
        "        \n",
        "        model.eval()\n",
        "\n",
        "        with torch.no_grad():\n",
        "            losses, records = zip(*[loss_batch(model, loss_func, xb, yb) for xb, yb in valid_dl])\n",
        "            train_scores, train_records = zip(*[get_metrics(model, xb, yb) for xb, yb in train_dl])\n",
        "            test_scores, test_records = zip(*[get_metrics(model, xb, yb) for xb, yb in test_dl])\n",
        "            \n",
        "        test_loss = np.sum(np.multiply(losses, records)) / np.sum(records)    \n",
        "        \n",
        "        train_metrics = np.sum(np.multiply(train_scores, train_records)) / np.sum(train_records)\n",
        "        test_metrics = np.sum(np.multiply(test_scores, test_records)) / np.sum(test_records)\n",
        "        \n",
        "        train_loss_all.append(train_loss)\n",
        "        test_loss_all.append(test_loss)\n",
        "\n",
        "        train_metrics_all.append(train_metrics)\n",
        "        test_metrics_all.append(test_metrics)\n",
        "\n",
        "        print(f\"\"\"EPOCH: {epoch}|TRAIN LOSS: {train_loss:.8f}|TRAIN ROCAUC: {train_metrics:.8f}|TEST LOSS: {test_loss:.8f}|TEST ROCAUC: {test_metrics:.8f}\"\"\")\n",
        "        \n",
        "    return {\"train_auc\" : train_metrics_all, \"test_auc\": test_metrics_all, \n",
        "            \"loss\" : train_loss_all, \"test_loss\" : test_loss_all}\n",
        "\n",
        "\n",
        "\n",
        "def plot_results(history):\n",
        "  %matplotlib inline\n",
        "  import matplotlib.pyplot as plt\n",
        "  fig = plt.figure(figsize = (16, 4))\n",
        "  fig.add_subplot(121)\n",
        "  epochs = len(history[\"loss\"])\n",
        "  plt.plot(np.arange(0, epochs), history[\"loss\"])\n",
        "  plt.plot(np.arange(0, epochs), history[\"test_loss\"])\n",
        "  plt.title(\"Loss\")\n",
        "  plt.legend([\"train\", \"test\"])\n",
        "  plt.xticks(np.arange(0, epochs, 1))\n",
        "  plt.xlabel(\"epoch\")\n",
        "  \n",
        "  fig.add_subplot(122)\n",
        "  plt.plot(np.arange(0, epochs), history[\"train_auc\"])\n",
        "  plt.plot(np.arange(0, epochs), history[\"test_auc\"])\n",
        "  plt.ylim(0,1)\n",
        "  plt.title(\"Metrics - AUC\")\n",
        "  plt.legend([\"train\", \"test\"])\n",
        "  plt.xticks(np.arange(0, epochs, 1))\n",
        "  plt.xlabel(\"epoch\")\n",
        "  plt.show()\n",
        "\n"
      ],
      "execution_count": null,
      "outputs": []
    },
    {
      "cell_type": "markdown",
      "metadata": {
        "id": "sc6v5tFU3dOd"
      },
      "source": [
        ""
      ]
    },
    {
      "cell_type": "code",
      "metadata": {
        "id": "3vsdIVmhZPJC",
        "colab": {
          "base_uri": "https://localhost:8080/"
        },
        "outputId": "74b9884a-3d72-43f4-f33b-b4f82740a116"
      },
      "source": [
        "\n",
        "\n",
        "from torch.optim import Adam\n",
        "\n",
        "VOCAB_SIZE = 3000\n",
        "vocab_builder = Vocab(min_frequency=50, vocab_size=VOCAB_SIZE)\n",
        "ds = SentimentDataset(dataset_path=\"/content/IMDB Dataset.csv\", \n",
        "                      min_frequency=50, vocab_size=3000)\n",
        "train_length = int(len(ds)*0.8)\n",
        "test_length = int(len(ds)*0.2)\n",
        "train_ds, test_ds = random_split(ds, lengths = [train_length, test_length])\n",
        "\n"
      ],
      "execution_count": null,
      "outputs": [
        {
          "output_type": "stream",
          "text": [
            "100%|██████████| 50000/50000 [01:40<00:00, 499.07it/s]\n",
            "100%|██████████| 50000/50000 [00:03<00:00, 15437.37it/s]\n",
            "100%|██████████| 50000/50000 [00:02<00:00, 22296.70it/s]\n"
          ],
          "name": "stderr"
        }
      ]
    },
    {
      "cell_type": "code",
      "metadata": {
        "id": "tO5GsVHJ2d9J"
      },
      "source": [
        "def collate_fn(batch):\n",
        "  reviews = [torch.tensor(x[\"features\"]) for x in batch]\n",
        "  lens = [torch.tensor(x[\"len\"]) for x in batch]\n",
        "  target = [torch.tensor(x[\"target\"]) for x in batch]\n",
        "\n",
        "  padded_reviews = pad_sequence(reviews, batch_first=True, padding_value=0)\n",
        "  lens = torch.tensor(lens)\n",
        "  target = torch.tensor(target).reshape(-1,1)\n",
        "  return (padded_reviews.long().to(device), lens.float().to(device)), target.float().to(device)"
      ],
      "execution_count": null,
      "outputs": []
    },
    {
      "cell_type": "code",
      "metadata": {
        "id": "Fu-LD55jvAV5",
        "colab": {
          "base_uri": "https://localhost:8080/",
          "height": 414
        },
        "outputId": "a5deee01-28ac-42f3-8b75-62ce092ff563"
      },
      "source": [
        "\n",
        "def get_data(train_ds, test_ds, bs, vocab_size):\n",
        "    train_dl = DataLoader(train_ds, batch_size = bs, shuffle=True, \n",
        "                collate_fn=collate_fn)\n",
        "    test_dl = DataLoader(test_ds, batch_size = bs, shuffle=False,\n",
        "                collate_fn=collate_fn)\n",
        "    return train_dl, test_dl\n",
        "train_dl, test_dl = get_data(train_ds, test_ds, bs=64, vocab_size=VOCAB_SIZE)\n",
        "model = SentimentClassifier(embedding_dim=64, vocab_size=3000+1, hidden_size=128).to(device)\n",
        "\n",
        "loss_fn = nn.BCELoss()\n",
        "optimizer = Adam(model.parameters(), lr=5e-4)\n",
        "\n",
        "history  = fit(epochs=7, model=model, loss_func=loss_fn, \n",
        "    opt=optimizer, train_dl=train_dl, valid_dl=test_dl)\n",
        "plot_results(history=history)"
      ],
      "execution_count": null,
      "outputs": [
        {
          "output_type": "stream",
          "text": [
            "EPOCH: 0|TRAIN LOSS: 0.55662359|TRAIN ROCAUC: 0.83830599|TEST LOSS: 0.50352196|TEST ROCAUC: 0.83276453\n",
            "EPOCH: 1|TRAIN LOSS: 0.42292151|TRAIN ROCAUC: 0.93468686|TEST LOSS: 0.35148366|TEST ROCAUC: 0.92491419\n",
            "EPOCH: 2|TRAIN LOSS: 0.32964368|TRAIN ROCAUC: 0.95060457|TEST LOSS: 0.33254647|TEST ROCAUC: 0.93675070\n",
            "EPOCH: 3|TRAIN LOSS: 0.29251442|TRAIN ROCAUC: 0.96428111|TEST LOSS: 0.30250667|TEST ROCAUC: 0.94702934\n",
            "EPOCH: 4|TRAIN LOSS: 0.25712540|TRAIN ROCAUC: 0.96985052|TEST LOSS: 0.28877390|TEST ROCAUC: 0.94859260\n",
            "EPOCH: 5|TRAIN LOSS: 0.24519266|TRAIN ROCAUC: 0.97305872|TEST LOSS: 0.30551804|TEST ROCAUC: 0.94916136\n",
            "EPOCH: 6|TRAIN LOSS: 0.21310554|TRAIN ROCAUC: 0.98056771|TEST LOSS: 0.28546595|TEST ROCAUC: 0.95584924\n"
          ],
          "name": "stdout"
        },
        {
          "output_type": "display_data",
          "data": {
            "image/png": "[encoded data removed]",
            "text/plain": [
              "<Figure size 1152x288 with 2 Axes>"
            ]
          },
          "metadata": {
            "tags": [],
            "needs_background": "light"
          }
        }
      ]
    },
    {
      "cell_type": "code",
      "metadata": {
        "id": "HU0Lcq2LnkHW"
      },
      "source": [
        ""
      ],
      "execution_count": null,
      "outputs": []
    }
  ]
}