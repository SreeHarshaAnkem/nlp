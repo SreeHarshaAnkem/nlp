{
 "cells": [
  {
   "cell_type": "code",
   "execution_count": 7,
   "metadata": {},
   "outputs": [],
   "source": [
    "import numpy as np\n",
    "import torch\n",
    "from torch import nn "
   ]
  },
  {
   "cell_type": "code",
   "execution_count": 159,
   "metadata": {},
   "outputs": [],
   "source": [
    "class Rnn(nn.Module):\n",
    "    def __init__(self, batch_size, seq_len, hidden_size, input_size):\n",
    "        super(Rnn, self).__init__()\n",
    "        self.w_xh = nn.Linear(in_features=input_size, out_features=hidden_size)\n",
    "        self.w_hh = nn.Linear(in_features=hidden_size, out_features=hidden_size)\n",
    "        self.w_ho = nn.Linear(in_features=hidden_size, out_features=1)\n",
    "        \n",
    "        self.h_t = torch.zeros(batch_size, hidden_size)\n",
    "\n",
    "    def forward(self, x):\n",
    "        outputs = []\n",
    "        for time_step in range(x.shape[1]):\n",
    "            x_t = x[:, time_step, :]\n",
    "            self.h_t = torch.Tanh(self.w_xh(x_t) + self.w_hh(self.h_t))\n",
    "            self.o_t = self.w_ho(self.h_t) \n",
    "            outputs.append(self.o_t )\n",
    "        return torch.cat(outputs, dim=0), self.h_t\n",
    "            "
   ]
  }
 ],
 "metadata": {
  "kernelspec": {
   "display_name": "Python 3",
   "language": "python",
   "name": "python3"
  },
  "language_info": {
   "codemirror_mode": {
    "name": "ipython",
    "version": 3
   },
   "file_extension": ".py",
   "mimetype": "text/x-python",
   "name": "python",
   "nbconvert_exporter": "python",
   "pygments_lexer": "ipython3",
   "version": "3.8.6"
  },
  "toc": {
   "base_numbering": 1,
   "nav_menu": {},
   "number_sections": true,
   "sideBar": true,
   "skip_h1_title": false,
   "title_cell": "Table of Contents",
   "title_sidebar": "Contents",
   "toc_cell": false,
   "toc_position": {},
   "toc_section_display": true,
   "toc_window_display": false
  }
 },
 "nbformat": 4,
 "nbformat_minor": 4
}
